{
  "nbformat": 4,
  "nbformat_minor": 0,
  "metadata": {
    "colab": {
      "private_outputs": true,
      "provenance": [],
      "authorship_tag": "ABX9TyPE4XnJKCzBl0A7rMAdJz27",
      "include_colab_link": true
    },
    "kernelspec": {
      "name": "python3",
      "display_name": "Python 3"
    },
    "language_info": {
      "name": "python"
    }
  },
  "cells": [
    {
      "cell_type": "markdown",
      "metadata": {
        "id": "view-in-github",
        "colab_type": "text"
      },
      "source": [
        "<a href=\"https://colab.research.google.com/github/HARSHITHA-creation/C-jupyter-mini-projects-guessthenumber.py/blob/main/Untitled.ipynb\" target=\"_parent\"><img src=\"https://colab.research.google.com/assets/colab-badge.svg\" alt=\"Open In Colab\"/></a>"
      ]
    },
    {
      "cell_type": "markdown",
      "source": [
        "**Amazon Originals India Dataset Analysis**\n",
        "\n",
        "**Purpose **\n",
        "\n",
        "The goal of \"Amazon Originals India Dataset Analysis\" is to delve into and extract insights from the diverse array of Amazon Original series originating in India. This analysis entails uncovering patterns across genres, premiere dates, seasons, languages, and series statuses. Furthermore, it aims to shed light on the popularity and reception of these series among Indian viewers, potentially offering valuable insights to shape future content creation strategies for Amazon Prime Video in the Indian market.\n",
        "\n",
        "**Step 1: Import the Necessary Packages**"
      ],
      "metadata": {
        "id": "w6N4YmxUeqlM"
      }
    },
    {
      "cell_type": "code",
      "source": [
        "# Importing the necessary packages for data manipulation and visualisation\n",
        "\n",
        "import pandas as pd # Data Manipulation\n",
        "import matplotlib.pyplot as plt # Data Visualisation"
      ],
      "metadata": {
        "id": "bAlVsulbewUX"
      },
      "execution_count": null,
      "outputs": []
    },
    {
      "cell_type": "markdown",
      "source": [
        "**Step 2: Loading the files from the local system to the Noteboo**k"
      ],
      "metadata": {
        "id": "ohsWbyFuh5ls"
      }
    },
    {
      "cell_type": "code",
      "source": [
        "# Load the files\n",
        "data = pd.read_csv('/content/Amazon originalsIndia (1).csv') # Function to read the CSV file from the File path.\n",
        "print(data)"
      ],
      "metadata": {
        "id": "nMC7-079h8U4"
      },
      "execution_count": null,
      "outputs": []
    },
    {
      "cell_type": "markdown",
      "source": [
        "**Step 3: Data View**"
      ],
      "metadata": {
        "id": "Zl81WosZiToV"
      }
    },
    {
      "cell_type": "code",
      "source": [
        "data.head() # Prints the first 5 rows of the dataset"
      ],
      "metadata": {
        "id": "_pjmjM5diVw7"
      },
      "execution_count": null,
      "outputs": []
    },
    {
      "cell_type": "code",
      "source": [
        "# To print the column names present in the dataset.\n",
        "data.columns\n",
        ""
      ],
      "metadata": {
        "id": "9Mx2YF_5igDo"
      },
      "execution_count": null,
      "outputs": []
    },
    {
      "cell_type": "code",
      "source": [
        "\n",
        "# Gives the a concise summary of a DataFrame.\n",
        "data.info()"
      ],
      "metadata": {
        "id": "qRF5wBnwi0ia"
      },
      "execution_count": null,
      "outputs": []
    },
    {
      "cell_type": "code",
      "source": [
        "# Prints the shape i.e. the row size by column size of the dataset\n",
        "data.shape\n",
        ""
      ],
      "metadata": {
        "id": "q311kYX2i8od"
      },
      "execution_count": null,
      "outputs": []
    },
    {
      "cell_type": "code",
      "source": [
        "\n",
        "# Gives the details on the datatype present in each column\n",
        "data.dtypes"
      ],
      "metadata": {
        "id": "k4Y0YUIpjLRI"
      },
      "execution_count": null,
      "outputs": []
    },
    {
      "cell_type": "code",
      "source": [
        "# Gives the overall info of the dataframe object\n",
        "data.describe()\n",
        ""
      ],
      "metadata": {
        "id": "YE6piumXjaih"
      },
      "execution_count": null,
      "outputs": []
    },
    {
      "cell_type": "markdown",
      "source": [
        "**Step 4: Data Cleaning (Filbold textteration)**"
      ],
      "metadata": {
        "id": "7W8LwvX1jkyQ"
      }
    },
    {
      "cell_type": "code",
      "source": [
        "# Shows the number of rows in a particular column. Useful for finding missing values.\n",
        "data.count()"
      ],
      "metadata": {
        "id": "krld40Cmj4yL"
      },
      "execution_count": null,
      "outputs": []
    },
    {
      "cell_type": "code",
      "source": [
        "# To get the values from the dataset\n",
        "data.value_counts()\n",
        ""
      ],
      "metadata": {
        "id": "STkmPrgAkApo"
      },
      "execution_count": null,
      "outputs": []
    },
    {
      "cell_type": "code",
      "source": [
        "# Gives the unique values present in the specified column\n",
        "data['Genre'].unique()"
      ],
      "metadata": {
        "id": "bCvAfLAskC5g"
      },
      "execution_count": null,
      "outputs": []
    },
    {
      "cell_type": "code",
      "source": [
        "# To remove all null values if present in the dataset\n",
        "data.dropna()"
      ],
      "metadata": {
        "id": "EAHQCM5NkKdX"
      },
      "execution_count": null,
      "outputs": []
    },
    {
      "cell_type": "code",
      "source": [
        "# Replaces all instances of Null values with the Boolean value 'True'.\n",
        "data.dropna(inplace=True)\n"
      ],
      "metadata": {
        "id": "BXhxymDekP2o"
      },
      "execution_count": null,
      "outputs": []
    },
    {
      "cell_type": "code",
      "source": [
        "# To check if there were any Null values that were dropped leading to a change in the shape of the Dataframe object.\n",
        "data.shape\n",
        ""
      ],
      "metadata": {
        "id": "cwn1NFNZkSo8"
      },
      "execution_count": null,
      "outputs": []
    },
    {
      "cell_type": "code",
      "source": [
        "# Prints if the values in the specified\n",
        "data['Status'].duplicated()"
      ],
      "metadata": {
        "id": "4VZvN-X9kZP7"
      },
      "execution_count": null,
      "outputs": []
    },
    {
      "cell_type": "code",
      "source": [
        "duplicate_rows = data.duplicated()\n",
        "print(duplicate_rows.sum())"
      ],
      "metadata": {
        "id": "Wc0EBN9okgQL"
      },
      "execution_count": null,
      "outputs": []
    },
    {
      "cell_type": "markdown",
      "source": [
        "Step 5: Sorting/Searching/Validation"
      ],
      "metadata": {
        "id": "PWRxGdwvkuAB"
      }
    },
    {
      "cell_type": "code",
      "source": [
        "# Sorting Process\n",
        "\n",
        "# Print a target column\n",
        "print(data['Language'])\n",
        ""
      ],
      "metadata": {
        "id": "JJpCDqvOk6eG"
      },
      "execution_count": null,
      "outputs": []
    },
    {
      "cell_type": "code",
      "source": [
        "# To sort the data in Ascending Order\n",
        "data.sort_values(by='Status',ascending=True)\n",
        ""
      ],
      "metadata": {
        "id": "VmE0rkvNk_X5"
      },
      "execution_count": null,
      "outputs": []
    },
    {
      "cell_type": "code",
      "source": [
        "# Search for rows where 'Status' contains 'Completed'\n",
        "df = pd.DataFrame(data.head(20))\n",
        "result = df[df['Status'].str.contains('Completed')]\n",
        "print(result)"
      ],
      "metadata": {
        "id": "MIRcStLLlFuz"
      },
      "execution_count": null,
      "outputs": []
    },
    {
      "cell_type": "code",
      "source": [
        "def filter_dataframe(df):\n",
        "    # Convert 'Premiere' column to datetime if it's not already in datetime format\n",
        "    df['Premiere'] = pd.to_datetime(df['Premiere'], errors='coerce')  # 'coerce' to handle any parsing errors gracefully\n",
        "\n",
        "    # Define a condition to filter rows\n",
        "    condition = (df['Seasons'].str.contains('season') & (df['Premiere'] > '2017-10-07'))\n",
        "\n",
        "    # Apply the condition to filter rows\n",
        "    filtered_df = df[condition]\n",
        "\n",
        "    return filtered_df\n",
        "\n",
        "# Sample usage\n",
        "# Assuming 'df' is your DataFrame\n",
        "filtered_data = filter_dataframe(df)\n",
        "print(filtered_data)"
      ],
      "metadata": {
        "id": "5UsEvYGWlK7s"
      },
      "execution_count": null,
      "outputs": []
    },
    {
      "cell_type": "markdown",
      "source": [
        "**Step 6: Dat**a **Visualisation**"
      ],
      "metadata": {
        "id": "pE8cY1aOlUyH"
      }
    },
    {
      "cell_type": "code",
      "source": [
        "print(data.columns)\n",
        "\n",
        "# To create a Dataframe object to hold the data in a tabular format\n",
        "df = pd.DataFrame(data.head(30))"
      ],
      "metadata": {
        "id": "aBD5RTTflb_T"
      },
      "execution_count": null,
      "outputs": []
    },
    {
      "cell_type": "markdown",
      "source": [
        "**pie chat**"
      ],
      "metadata": {
        "id": "4hJmgJEWl4c5"
      }
    },
    {
      "cell_type": "code",
      "source": [
        "# Generate a pie chart to visualize the distribution of values in the 'Genre' column\n",
        "df['Genre'].value_counts().plot(kind='pie', autopct='%1.1f%%')\n",
        "\n",
        "# Add a title to the pie chart indicating the variable being visualized\n",
        "plt.title(\"Genre\")\n",
        "\n",
        "# Display the pie chart\n",
        "plt.show()"
      ],
      "metadata": {
        "id": "Awnbe3HYlktm"
      },
      "execution_count": null,
      "outputs": []
    },
    {
      "cell_type": "markdown",
      "source": [
        "**Bar chat**"
      ],
      "metadata": {
        "id": "ivPsMfZCmjXf"
      }
    },
    {
      "cell_type": "code",
      "source": [
        "\n",
        "# Generate a bar chart to visualize the distribution of values in the 'Seasons' column\n",
        "df['Seasons'].value_counts().plot(kind='bar', color='green')\n",
        "\n",
        "# Add a label to the x-axis indicating the variable being visualized\n",
        "plt.xlabel('Number of Seasons')\n",
        "\n",
        "# Add a label to the y-axis indicating the count of each value\n",
        "plt.ylabel('Number of Counts')\n",
        "\n",
        "# Add a title to the bar chart indicating the purpose of the visualization\n",
        "plt.title('Distribution of Seasons')\n",
        "\n",
        "# Display the bar chart\n",
        "plt.show()\n",
        "\n"
      ],
      "metadata": {
        "id": "HCUhNFD7mGrs"
      },
      "execution_count": null,
      "outputs": []
    },
    {
      "cell_type": "markdown",
      "source": [
        "**Horizantal bar chat**"
      ],
      "metadata": {
        "id": "OIHxeZYrmpya"
      }
    },
    {
      "cell_type": "code",
      "source": [
        "# Generate a horizontal bar chart to visualize the distribution of values in the 'Premiere' column\n",
        "df['Language'].value_counts().plot(kind='barh', color='blue')\n",
        "\n",
        "# Add a label to the x-axis indicating the count of each value\n",
        "plt.xlabel('Count')\n",
        "\n",
        "# Add a label to the y-axis indicating the variable being visualized\n",
        "plt.ylabel('Languages')\n",
        "\n",
        "# Add a title to the horizontal bar chart indicating the purpose of the visualization\n",
        "plt.title('Distribution of Languages')\n",
        "\n",
        "# Display the horizontal bar chart\n",
        "plt.show()\n",
        ""
      ],
      "metadata": {
        "id": "LOxM_HVYm1ls"
      },
      "execution_count": null,
      "outputs": []
    },
    {
      "cell_type": "code",
      "source": [],
      "metadata": {
        "id": "IafL25iGnDku"
      },
      "execution_count": null,
      "outputs": []
    },
    {
      "cell_type": "markdown",
      "source": [
        "**Line graph**"
      ],
      "metadata": {
        "id": "XDx2952mnE0t"
      }
    },
    {
      "cell_type": "code",
      "source": [
        "# Convert the 'Premiere' column to datetime format if it's not already in datetime format\n",
        "df['Premiere'] = pd.to_datetime(df['Premiere'])\n",
        "\n",
        "# Sort the DataFrame by the 'Premiere' column to ensure the data is plotted in chronological order\n",
        "df.sort_values(by='Premiere', inplace=True)\n",
        "\n",
        "# Plot a line chart to visualize the trend of 'Genre' over time\n",
        "plt.plot(df['Premiere'], df['Genre'], color='blue', marker='o', linestyle='-')\n",
        "\n",
        "# Add a label to the x-axis indicating the date of customer registration\n",
        "plt.xlabel('Premiere Dates')\n",
        "\n",
        "# Add a label to the y-axis indicating the income\n",
        "plt.ylabel('Genre')\n",
        "\n",
        "# Add a title to the line chart indicating the purpose of the visualization\n",
        "plt.title('Genre of Premieres Yearwise')\n",
        "\n",
        "# Rotate x-axis labels by 45 degrees for better readability\n",
        "plt.xticks(rotation=45)\n",
        "\n",
        "# Add grid lines to the plot for better visualization\n",
        "plt.grid(True)\n",
        "\n",
        "# Display the line chart\n",
        "plt.show()"
      ],
      "metadata": {
        "id": "_Tp5JgAJnLfe"
      },
      "execution_count": null,
      "outputs": []
    },
    {
      "cell_type": "markdown",
      "source": [
        "**Histogram graph**"
      ],
      "metadata": {
        "id": "9vwGLBfVnYGX"
      }
    },
    {
      "cell_type": "code",
      "source": [
        "# Generate a histogram to visualize the distribution of values in the 'Language' column\n",
        "plt.hist(df['Language'], bins=20, color='green', edgecolor='black')\n",
        "\n",
        "# Add a label to the x-axis indicating the variable being visualized\n",
        "plt.xlabel('Language')\n",
        "\n",
        "# Add a label to the y-axis indicating the frequency of observations\n",
        "plt.ylabel('Status')\n",
        "\n",
        "# Add a title to the histogram indicating the purpose of the visualization\n",
        "plt.title('Distribution of Languages')\n",
        "\n",
        "# Add grid lines to the histogram for better visualization\n",
        "plt.grid(True)\n",
        "\n",
        "# Display the histogram\n",
        "plt.show()\n",
        ""
      ],
      "metadata": {
        "id": "pANYb9djnfTN"
      },
      "execution_count": null,
      "outputs": []
    },
    {
      "cell_type": "markdown",
      "source": [
        "**Scatter plot**"
      ],
      "metadata": {
        "id": "QKxyfLENntwv"
      }
    },
    {
      "cell_type": "code",
      "source": [
        "# Generate a scatter plot to visualize the relationship between 'Premiere' and 'Genre'\n",
        "plt.scatter(df['Premiere'], df['Genre'], color='blue', alpha=0.8)\n",
        "\n",
        "# Add a label to the x-axis indicating the variable being visualized\n",
        "plt.xlabel('Premiere')\n",
        "\n",
        "# Add a label to the y-axis indicating the variable being visualized\n",
        "plt.ylabel('Genre')\n",
        "\n",
        "# Add a title to the scatter plot indicating the purpose of the visualization\n",
        "plt.title('Scatter Plot: Premiere vs. Genre')\n",
        "\n",
        "# Add grid lines to the scatter plot for better visualization\n",
        "plt.grid(True)\n",
        "\n",
        "# Display the scatter plot\n",
        "plt.show()"
      ],
      "metadata": {
        "id": "1WJbr0WPnzz-"
      },
      "execution_count": null,
      "outputs": []
    },
    {
      "cell_type": "markdown",
      "source": [
        "**CONCLUSION:**"
      ],
      "metadata": {
        "id": "6qK82AT_oFyc"
      }
    }
  ]
}