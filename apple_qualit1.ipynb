{
  "nbformat": 4,
  "nbformat_minor": 0,
  "metadata": {
    "colab": {
      "private_outputs": true,
      "provenance": [],
      "authorship_tag": "ABX9TyM63FNTaCmJ2eyMNDdrEYC1",
      "include_colab_link": true
    },
    "kernelspec": {
      "name": "python3",
      "display_name": "Python 3"
    },
    "language_info": {
      "name": "python"
    }
  },
  "cells": [
    {
      "cell_type": "markdown",
      "metadata": {
        "id": "view-in-github",
        "colab_type": "text"
      },
      "source": [
        "<a href=\"https://colab.research.google.com/github/HARSHITHA-creation/C-jupyter-mini-projects-guessthenumber.py/blob/main/apple_qualit1.ipynb\" target=\"_parent\"><img src=\"https://colab.research.google.com/assets/colab-badge.svg\" alt=\"Open In Colab\"/></a>"
      ]
    },
    {
      "cell_type": "markdown",
      "source": [
        "Project Title: APPLE QALITY\n",
        "\n",
        "project purpose\n",
        "\n",
        "The Apple Quality Project revolves around enhancing and maintaining the excellence of Apple products and services. It's a comprehensive endeavor aimed at ensuring that every aspect of the Apple ecosystem, from hardware to software, meets the highest standards of quality and user experience. Through rigorous testing, continuous improvement, and a dedication to innovation, this project reinforces Apple's reputation for delivering premium products that delight customers worldwide.\n",
        "\n",
        "step1: importing nessecary packages for data manipulation and visualization"
      ],
      "metadata": {
        "id": "pNt9DMSS3egM"
      }
    },
    {
      "cell_type": "code",
      "source": [
        "import pandas as pd\n",
        "import matplotlib as mpl"
      ],
      "metadata": {
        "id": "dPva3nXh3ptR"
      },
      "execution_count": null,
      "outputs": []
    },
    {
      "cell_type": "markdown",
      "source": [
        "**step 2:**loadung the data set from local to pandas to create seperate data set"
      ],
      "metadata": {
        "id": "4gKx7BO14Pa5"
      }
    },
    {
      "cell_type": "code",
      "source": [
        "data =pd.read_csv('/content/apple_quality - apple_quality.csv.csv')\n",
        "print(data)"
      ],
      "metadata": {
        "id": "oxyxUKCz4bpI"
      },
      "execution_count": null,
      "outputs": []
    },
    {
      "cell_type": "markdown",
      "source": [
        "**data.shape**"
      ],
      "metadata": {
        "id": "jwneZIto46jX"
      }
    },
    {
      "cell_type": "code",
      "source": [
        "data.shape\n",
        "print(\"row =\",data.shape[0])\n",
        "print(\"columns =\",data.shape[1])"
      ],
      "metadata": {
        "id": "JUnWvZU54xUk"
      },
      "execution_count": null,
      "outputs": []
    },
    {
      "cell_type": "markdown",
      "source": [
        "**stiewep 3:data view**"
      ],
      "metadata": {
        "id": "75vk-oRA5EkH"
      }
    },
    {
      "cell_type": "code",
      "source": [
        "# display the first few rows\n",
        "data.head()"
      ],
      "metadata": {
        "id": "axR-WV2P5JY2"
      },
      "execution_count": null,
      "outputs": []
    },
    {
      "cell_type": "markdown",
      "source": [
        "**step 4:data cleaning/Manipulation**"
      ],
      "metadata": {
        "id": "WIdL9VayIgso"
      }
    },
    {
      "cell_type": "code",
      "source": [
        "# count the number of non- null values in ech column of a DataFrame\n",
        "data.count"
      ],
      "metadata": {
        "id": "s3ey8SZwItsc"
      },
      "execution_count": null,
      "outputs": []
    },
    {
      "cell_type": "code",
      "source": [
        "# count the occurrences of uniqe values in a series or DataFrame column.\n",
        "data.value_counts"
      ],
      "metadata": {
        "id": "fUv8apMQJIz3"
      },
      "execution_count": null,
      "outputs": []
    },
    {
      "cell_type": "code",
      "source": [
        "data['Weight'].unique #obtains an array of unique values from a specific column 'weight'of a DataFrame."
      ],
      "metadata": {
        "id": "V3htjOYeJzEE"
      },
      "execution_count": null,
      "outputs": []
    },
    {
      "cell_type": "markdown",
      "source": [
        "**data.colums**"
      ],
      "metadata": {
        "id": "MKWcohtM50oV"
      }
    },
    {
      "cell_type": "code",
      "source": [
        "# it shows all the colums present in the dataset.\n",
        "data.columns"
      ],
      "metadata": {
        "id": "cf8nLrek5ns7"
      },
      "execution_count": null,
      "outputs": []
    },
    {
      "cell_type": "markdown",
      "source": [
        "**DataFrame**"
      ],
      "metadata": {
        "id": "ka9RQwQH5-Wm"
      }
    },
    {
      "cell_type": "code",
      "source": [
        "# this shows the dataFrame of the dataset\n",
        "data = pd.DataFrame(data)\n",
        "print(data)"
      ],
      "metadata": {
        "id": "wT1BNFA06TXf"
      },
      "execution_count": null,
      "outputs": []
    },
    {
      "cell_type": "markdown",
      "source": [
        "**Data.info()**"
      ],
      "metadata": {
        "id": "J_34ZOCQ6XTE"
      }
    },
    {
      "cell_type": "code",
      "source": [
        "# it describes the information of the dataset\n",
        "data.info()"
      ],
      "metadata": {
        "id": "_xS8Ph2v6buo"
      },
      "execution_count": null,
      "outputs": []
    },
    {
      "cell_type": "markdown",
      "source": [
        "**Data.head()**"
      ],
      "metadata": {
        "id": "IFc59xoS6r9B"
      }
    },
    {
      "cell_type": "code",
      "source": [
        "# it shows  the top 5 rows by default head()\n",
        "data.head()"
      ],
      "metadata": {
        "id": "g-lJGHQd6wMs"
      },
      "execution_count": null,
      "outputs": []
    },
    {
      "cell_type": "markdown",
      "source": [
        "**Data.tail()**"
      ],
      "metadata": {
        "id": "5FaY0Mxa7cdB"
      }
    },
    {
      "cell_type": "code",
      "source": [
        "# it display bottom 5 rows  by default tail()\n",
        "data.tail()"
      ],
      "metadata": {
        "id": "txLuVvVg7pU7"
      },
      "execution_count": null,
      "outputs": []
    },
    {
      "cell_type": "markdown",
      "source": [
        "**Data.describe**"
      ],
      "metadata": {
        "id": "UlS-lw0y75Fa"
      }
    },
    {
      "cell_type": "code",
      "source": [
        "# describes the data in the dataset\n",
        "data.describe"
      ],
      "metadata": {
        "id": "4Q3inJME74vg"
      },
      "execution_count": null,
      "outputs": []
    },
    {
      "cell_type": "markdown",
      "source": [
        "**Data.count()**"
      ],
      "metadata": {
        "id": "-29YWN1n8NzX"
      }
    },
    {
      "cell_type": "code",
      "source": [
        "# it gives the total count of data present in the dataset\n",
        "data.count()"
      ],
      "metadata": {
        "id": "krh5e3Gq8UZQ"
      },
      "execution_count": null,
      "outputs": []
    },
    {
      "cell_type": "markdown",
      "source": [
        "**Data.value_counts**"
      ],
      "metadata": {
        "id": "3OW_zMqr8iAi"
      }
    },
    {
      "cell_type": "code",
      "source": [
        "# it counts the data values in the dataset\n",
        "data.value_counts"
      ],
      "metadata": {
        "id": "pcy6dyan8nVZ"
      },
      "execution_count": null,
      "outputs": []
    },
    {
      "cell_type": "markdown",
      "source": [
        "**data.unique()**"
      ],
      "metadata": {
        "id": "bJL-8P7E87Ac"
      }
    },
    {
      "cell_type": "code",
      "source": [
        "# gives the unique values present in specified column\n",
        "data['A_id'].unique()"
      ],
      "metadata": {
        "id": "rUdrX-EB9BCm"
      },
      "execution_count": null,
      "outputs": []
    },
    {
      "cell_type": "markdown",
      "source": [
        "**data.dropna**"
      ],
      "metadata": {
        "id": "jxoULSHv9ZBd"
      }
    },
    {
      "cell_type": "code",
      "source": [
        "# used to remove null values from the dataset\n",
        "data.dropna"
      ],
      "metadata": {
        "id": "eA5EvNkf9cq2"
      },
      "execution_count": null,
      "outputs": []
    },
    {
      "cell_type": "code",
      "source": [
        "data.shape"
      ],
      "metadata": {
        "id": "75EobTGH9ude"
      },
      "execution_count": null,
      "outputs": []
    },
    {
      "cell_type": "code",
      "source": [
        "# checking the rows and if any null value found replacces with true\n",
        "data.dropna(inplace=True)"
      ],
      "metadata": {
        "id": "yH798oQM9zj8"
      },
      "execution_count": null,
      "outputs": []
    },
    {
      "cell_type": "code",
      "source": [
        "# check the duplicate values in the specified column\n",
        "data['A_id'].duplicated()"
      ],
      "metadata": {
        "id": "itQhZOrV-JSy"
      },
      "execution_count": null,
      "outputs": []
    },
    {
      "cell_type": "code",
      "source": [
        "#if duplicates found it removes the duplicate record from the data set\n",
        "data.drop_duplicates(inplace=True)"
      ],
      "metadata": {
        "id": "8eqa7rBDFN0Z"
      },
      "execution_count": null,
      "outputs": []
    },
    {
      "cell_type": "code",
      "source": [],
      "metadata": {
        "id": "v6DK9KIYF2mc"
      },
      "execution_count": null,
      "outputs": []
    },
    {
      "cell_type": "code",
      "source": [
        "# the sum()will give the overall count of the duplicate values present in dataset\n",
        "duplicate_rows =data.duplicated()\n",
        "print(duplicate_rows.sum())"
      ],
      "metadata": {
        "id": "0vhJ-978FuHf"
      },
      "execution_count": null,
      "outputs": []
    },
    {
      "cell_type": "markdown",
      "source": [
        "**step 5:Data sorting/Searching/Validation**"
      ],
      "metadata": {
        "id": "yXkAFaNXGeQn"
      }
    },
    {
      "cell_type": "code",
      "source": [
        "data.dtypes #displays the datatypes"
      ],
      "metadata": {
        "id": "S4ZQ9MkRIFWj"
      },
      "execution_count": null,
      "outputs": []
    },
    {
      "cell_type": "code",
      "source": [
        "print(data.columns)\n"
      ],
      "metadata": {
        "id": "pfkYbvBaM-dR"
      },
      "execution_count": null,
      "outputs": []
    },
    {
      "cell_type": "code",
      "source": [
        "# sort the datain the  decending order\n",
        "data.sort_values('A_id',ascending=False)"
      ],
      "metadata": {
        "id": "1XdMDeqZQ7o0"
      },
      "execution_count": null,
      "outputs": []
    },
    {
      "cell_type": "code",
      "source": [
        "# sort the datain the  ascending order\n",
        "data.sort_values('A_id',ascending=True)"
      ],
      "metadata": {
        "id": "MT95BKrqRck-"
      },
      "execution_count": null,
      "outputs": []
    },
    {
      "cell_type": "code",
      "source": [
        "# displays the data of range >50\n",
        "data['A_id']>50"
      ],
      "metadata": {
        "id": "2mHDmri1RoNY"
      },
      "execution_count": null,
      "outputs": []
    },
    {
      "cell_type": "markdown",
      "source": [
        "**Data visualitation**"
      ],
      "metadata": {
        "id": "zJPPuQz6Tp2z"
      }
    },
    {
      "cell_type": "code",
      "source": [
        "import matplotlib.pyplot as plt\n"
      ],
      "metadata": {
        "id": "qoPr2x5NTvwt"
      },
      "execution_count": null,
      "outputs": []
    },
    {
      "cell_type": "code",
      "source": [
        "data.columns"
      ],
      "metadata": {
        "id": "iQ7jUD6DT76O"
      },
      "execution_count": null,
      "outputs": []
    },
    {
      "cell_type": "code",
      "source": [
        "df = pd.DataFrame(data) # train tha data"
      ],
      "metadata": {
        "id": "0tsSEpbPUD-r"
      },
      "execution_count": null,
      "outputs": []
    },
    {
      "cell_type": "markdown",
      "source": [
        "**PIE Char**t"
      ],
      "metadata": {
        "id": "XXYCbVXTYnd8"
      }
    },
    {
      "cell_type": "code",
      "source": [
        "df = pd.DataFrame(data.head(20))\n",
        "df['Weight'].value_counts().plot(kind='pie')\n",
        "plt.title(\"Weight checking\")\n",
        "plt.show()"
      ],
      "metadata": {
        "id": "5DTWfTqdVbPJ"
      },
      "execution_count": null,
      "outputs": []
    },
    {
      "cell_type": "markdown",
      "source": [
        "**Bar Chart**"
      ],
      "metadata": {
        "id": "Pa2Wx06TYdnn"
      }
    },
    {
      "cell_type": "code",
      "source": [
        "\n",
        "df = pd.DataFrame(data.head(20))\n",
        "\n",
        "# Plotting the bar graph\n",
        "df['Size'].value_counts().plot(kind='bar')\n",
        "plt.title(\"Size checking\")\n",
        "plt.xlabel(\"Size\")\n",
        "plt.ylabel(\"lenth\")\n",
        "plt.show()"
      ],
      "metadata": {
        "id": "GGUPDNTlXZI4"
      },
      "execution_count": null,
      "outputs": []
    },
    {
      "cell_type": "markdown",
      "source": [
        "**Line Graph**"
      ],
      "metadata": {
        "id": "8tDRN6wLYsTU"
      }
    },
    {
      "cell_type": "code",
      "source": [
        "df = pd.DataFrame(data.head(20))\n",
        "\n",
        "# Plotting the line graph\n",
        "df['Size'].value_counts().plot(kind='line')\n",
        "plt.title(\"Size checking\")\n",
        "plt.xlabel(\"Size\")\n",
        "plt.ylabel(\"Count\")\n",
        "plt.grid(True)\n",
        "plt.show()"
      ],
      "metadata": {
        "id": "9KJr2vWxYxw8"
      },
      "execution_count": null,
      "outputs": []
    },
    {
      "cell_type": "markdown",
      "source": [
        "**Histogram Graph**"
      ],
      "metadata": {
        "id": "HbuAr-tJZ5yt"
      }
    },
    {
      "cell_type": "code",
      "source": [
        "df = pd.DataFrame(data.head(20))\n",
        "\n",
        "# Plotting the histogram\n",
        "df['Size'].plot(kind='hist', bins=10)  # Adjust the number of bins as needed\n",
        "plt.title(\"Size Histogram\")\n",
        "plt.xlabel(\"Size\")\n",
        "plt.ylabel(\"Frequency\")\n",
        "plt.show()\n",
        "\n",
        "# plotiing  the histogram\n",
        "df = pd.DataFrame(data.head(20))\n",
        "# Plotting the histogram\n",
        "df['Weight'].plot(kind='hist', bins=10)  # Adjust the number of bins as needed\n",
        "plt.title(\"Weight Histogram\")\n",
        "plt.xlabel(\"Weight\")\n",
        "plt.ylabel(\"Frequency\")\n",
        "plt.show()\n",
        "\n",
        "\n"
      ],
      "metadata": {
        "id": "vgzn1FhHaBvL"
      },
      "execution_count": null,
      "outputs": []
    },
    {
      "cell_type": "markdown",
      "source": [
        "**Horizontal Bar Chart**"
      ],
      "metadata": {
        "id": "2-HpfTEib_XF"
      }
    },
    {
      "cell_type": "code",
      "source": [
        "df = pd.DataFrame(data.head(20))\n",
        "\n",
        "# Plotting the horizontal bar chart\n",
        "df['Weight'].value_counts().plot(kind='barh')\n",
        "plt.title(\"Weight checking\")\n",
        "plt.xlabel(\"Count\")\n",
        "plt.ylabel(\"Weight\")\n",
        "plt.show()"
      ],
      "metadata": {
        "id": "mujfUyOCb8FQ"
      },
      "execution_count": null,
      "outputs": []
    },
    {
      "cell_type": "code",
      "source": [
        "df = pd.DataFrame(data.head(20))\n",
        "\n",
        "# Plotting the horizontal bar chart\n",
        "df['Size'].value_counts().plot(kind='barh')\n",
        "plt.title(\"Size checking\")\n",
        "plt.xlabel(\"Count\")\n",
        "plt.ylabel(\"Size\")\n",
        "plt.show()"
      ],
      "metadata": {
        "id": "tMy8jlRecdl7"
      },
      "execution_count": null,
      "outputs": []
    },
    {
      "cell_type": "markdown",
      "source": [
        "**Scatter plot**"
      ],
      "metadata": {
        "id": "i8XCmdB5dFfV"
      }
    },
    {
      "cell_type": "code",
      "source": [
        "df = pd.DataFrame(data.head(20))\n",
        "\n",
        "# Counting the occurrences of each size\n",
        "size_counts = df['Size'].value_counts()\n",
        "\n",
        "# Extracting unique sizes and their counts\n",
        "sizes = size_counts.index\n",
        "counts = size_counts.values\n",
        "\n",
        "# Creating a scatter plot\n",
        "plt.scatter(sizes, counts)\n",
        "plt.title(\"Size Scatter Plot\")\n",
        "plt.xlabel(\"Size\")\n",
        "plt.ylabel(\"Count\")\n",
        "plt.show()"
      ],
      "metadata": {
        "id": "LzVxoc1-dK98"
      },
      "execution_count": null,
      "outputs": []
    },
    {
      "cell_type": "markdown",
      "source": [
        "**Summary**"
      ],
      "metadata": {
        "id": "9uPQBC43c8Oz"
      }
    },
    {
      "cell_type": "markdown",
      "source": [
        "**The Apple Quality Project is dedicated to upholding and improving the quality of Apple products and services. It involves rigorous testing, continuous refinement, and innovative approaches to ensure that every aspect of the Apple ecosystem, including hardware and software, meets the highest standards. This project underscores Apple's commitment to delivering exceptional products that consistently exceed customer expectations.**"
      ],
      "metadata": {
        "id": "awdtgEuKdAZ5"
      }
    }
  ]
}